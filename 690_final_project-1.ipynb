{
 "cells": [
  {
   "cell_type": "code",
   "execution_count": 19,
   "id": "3d39b49d-5afc-4431-b394-1e1af50ea5b5",
   "metadata": {},
   "outputs": [],
   "source": [
    "import torch\n",
    "import torch.nn as nn\n",
    "import numpy as np\n",
    "import collections \n",
    "import cv2\n",
    "import matplotlib.pyplot as plt\n",
    "import torch.optim as optim\n",
    "import torch.nn.functional as F\n",
    "from collections import deque\n",
    "from IPython.display import display, clear_output\n",
    "import random\n",
    "from tqdm import tqdm\n",
    "import pickle \n",
    "\n",
    "from nes_py.wrappers import JoypadSpace\n",
    "import gym_super_mario_bros\n",
    "from gym_super_mario_bros.actions import RIGHT_ONLY, COMPLEX_MOVEMENT, SIMPLE_MOVEMENT\n",
    "import gym\n",
    "from gym import spaces\n",
    "import torchvision\n",
    "\n",
    "from torchvision import models\n",
    "from torchvision.models.resnet import ResNet18_Weights"
   ]
  },
  {
   "cell_type": "code",
   "execution_count": 20,
   "id": "17ab8a29-7b52-468a-8b48-ca614e17b033",
   "metadata": {
    "tags": []
   },
   "outputs": [],
   "source": [
    "class max_skip_environment(gym.Wrapper):\n",
    "\n",
    "    def __init__(self, env, skip=4):\n",
    "        super(max_skip_environment, self).__init__(env)\n",
    "        self._skip = skip  \n",
    "    def step(self, action):\n",
    "        total_reward = 0.0\n",
    "        done = None\n",
    "        for _ in range(self._skip):\n",
    "            obs, reward, done, info = self.env.step(action)\n",
    "            total_reward += reward\n",
    "            if done:\n",
    "                break\n",
    "        return obs, total_reward, done, info\n",
    "\n",
    "class frames_64(gym.Wrapper):\n",
    "\n",
    "    def __init__(self, env):\n",
    "        super(frames_64, self).__init__(env)\n",
    "        self.observation_space = spaces.Box(low=0, high=255, shape=(64, 64, 1), dtype=np.uint8)\n",
    "\n",
    "    def process_frame(self, frame):\n",
    "        frame = cv2.cvtColor(frame, cv2.COLOR_RGB2GRAY)\n",
    "        frame = cv2.resize(frame, (64, 64), interpolation=cv2.INTER_AREA)\n",
    "        frame = frame[:, :, None]\n",
    "        return frame\n",
    "\n",
    "    def step(self, action):\n",
    "        obs, reward, done, info = self.env.step(action)\n",
    "        return self.process_frame(obs), reward, done, info\n",
    "\n",
    "    def reset(self):\n",
    "        return self.process_frame(self.env.reset())\n",
    "\n",
    "\n",
    "class pytorch_img(gym.ObservationWrapper):\n",
    "    def __init__(self, env):\n",
    "        super(pytorch_img, self).__init__(env)\n",
    "        old_shape = self.observation_space.shape\n",
    "        self.observation_space = spaces.Box(low=0.0, high=1.0,\n",
    "                                            shape=(old_shape[-1], old_shape[0], old_shape[1]),\n",
    "                                            dtype=np.float32)\n",
    "\n",
    "    def observation(self, observation):\n",
    "        return np.moveaxis(observation, 2, 0)\n",
    "\n",
    "\n",
    "class scale_frame(gym.ObservationWrapper):\n",
    "    def observation(self, obs):\n",
    "        return np.array(obs).astype(np.float32) / 255.0\n",
    "\n",
    "\n",
    "class buffer_wrapper(gym.ObservationWrapper):\n",
    "    def __init__(self, env, n_steps=4):\n",
    "\n",
    "        super(buffer_wrapper, self).__init__(env)\n",
    "        self.observation_space = spaces.Box(env.observation_space.low.repeat(n_steps, axis=0),\n",
    "                                            env.observation_space.high.repeat(n_steps, axis=0),\n",
    "                                            dtype=np.float32)\n",
    "        self.buffer = np.zeros_like(self.observation_space.low, dtype=np.float32)\n",
    "\n",
    "    def observation(self, observation):\n",
    "\n",
    "        self.buffer[:-1] = self.buffer[1:]\n",
    "        self.buffer[-1] = observation\n",
    "        return self.buffer\n",
    "\n",
    "\n",
    "def make_env(env):\n",
    "    env = max_skip_environment(env)\n",
    "    env = frames_64(env)\n",
    "    env = pytorch_img(env)\n",
    "    env = buffer_wrapper(env, 4)\n",
    "    env = scale_frame(env)\n",
    "    return JoypadSpace(env, RIGHT_ONLY)\n"
   ]
  },
  {
   "cell_type": "code",
   "execution_count": 21,
   "id": "03d5bac9-b625-4413-8935-710dd68fa973",
   "metadata": {},
   "outputs": [
    {
     "name": "stdout",
     "output_type": "stream",
     "text": [
      "cuda\n"
     ]
    }
   ],
   "source": [
    "device = torch.device(\"cuda\" if torch.cuda.is_available() else \"cpu\")\n",
    "print(device)"
   ]
  },
  {
   "cell_type": "code",
   "execution_count": 22,
   "id": "eb829f41-5402-4dd1-93a8-a4586281a382",
   "metadata": {
    "tags": []
   },
   "outputs": [],
   "source": [
    "class DQNSolver(nn.Module):\n",
    "    def __init__(self, input_shape, n_actions, num_heads=4, window_size=4, shift_size=2):\n",
    "        \"\"\"\n",
    "        Deep Q-Network (DQN) solver class.\n",
    "\n",
    "        Args:\n",
    "        - input_shape (tuple): Shape of the input image (channels, height, width).\n",
    "        - n_actions (int): Number of possible actions.\n",
    "        - num_heads (int): Number of attention heads in the Swin Transformer block.\n",
    "        - window_size (int): Size of the window for the Swin Transformer block.\n",
    "        - shift_size (int): Size of the shift for the Swin Transformer block.\n",
    "        \"\"\"\n",
    "        super(DQNSolver, self).__init__()\n",
    "        self.resnet = torchvision.models.resnet18(weights=ResNet18_Weights.IMAGENET1K_V1)\n",
    "        self.resnet.conv1 = nn.Conv2d(4, 64, kernel_size=7, stride=2, padding=3, bias=False)\n",
    "\n",
    "        self.encoder1 = nn.Sequential(self.resnet.conv1, self.resnet.bn1, self.resnet.relu)\n",
    "        self.encoder2 = self.resnet.layer1\n",
    "        self.encoder3 = self.resnet.layer2\n",
    "        self.encoder4 = self.resnet.layer3\n",
    "\n",
    "        feature_size = 256\n",
    "\n",
    "        self.swin_transformer = SwinTransformerBlock(dim=feature_size, num_heads=num_heads,\n",
    "                                                     window_size=window_size, shift_size=shift_size)\n",
    "\n",
    "        self.fc = nn.Sequential(\n",
    "            nn.Linear(feature_size, 512),\n",
    "            nn.ReLU(),\n",
    "            nn.Linear(512, n_actions)\n",
    "        )\n",
    "\n",
    "    def forward(self, x):\n",
    "        \"\"\"\n",
    "        Forward pass of the DQN solver.\n",
    "\n",
    "        Args:\n",
    "        - x (torch.Tensor): Input tensor of shape (batch_size, channels, height, width).\n",
    "\n",
    "        Returns:\n",
    "        - torch.Tensor: Output tensor of shape (batch_size, n_actions).\n",
    "        \"\"\"\n",
    "        enc1 = self.encoder1(x)\n",
    "        enc2 = self.encoder2(enc1)\n",
    "        enc3 = self.encoder3(enc2)\n",
    "        enc4 = self.encoder4(enc3)\n",
    "\n",
    "        features = self.swin_transformer(enc4)\n",
    "\n",
    "        features = nn.functional.adaptive_avg_pool2d(features, (1, 1))\n",
    "        features = torch.flatten(features, 1)\n",
    "        return self.fc(features)\n",
    "\n",
    "\n",
    "class SwinTransformerBlock(nn.Module):\n",
    "    def __init__(self, dim, num_heads, window_size=4, shift_size=2):\n",
    "        \"\"\"\n",
    "        Swin Transformer block class.\n",
    "\n",
    "        Args:\n",
    "        - dim (int): Dimension of the input tensor.\n",
    "        - num_heads (int): Number of attention heads.\n",
    "        - window_size (int): Size of the window for the attention operation.\n",
    "        - shift_size (int): Size of the shift for the attention operation.\n",
    "        \"\"\"\n",
    "        super().__init__()\n",
    "        self.dim = dim\n",
    "        self.window_size = window_size\n",
    "        self.shift_size = shift_size\n",
    "        self.num_heads = num_heads\n",
    "\n",
    "        self.norm1 = nn.LayerNorm(dim)\n",
    "        self.attn = WindowAttention(dim, window_size=self.window_size, num_heads=num_heads)\n",
    "        self.mlp = nn.Sequential(\n",
    "            nn.Linear(dim, 4 * dim),\n",
    "            nn.GELU(),\n",
    "            nn.Linear(4 * dim, dim)\n",
    "        )\n",
    "        self.norm2 = nn.LayerNorm(dim)\n",
    "\n",
    "    def forward(self, x):\n",
    "        \"\"\"\n",
    "        Forward pass of the Swin Transformer block.\n",
    "\n",
    "        Args:\n",
    "        - x (torch.Tensor): Input tensor of shape (batch_size, channels, height, width).\n",
    "\n",
    "        Returns:\n",
    "        - torch.Tensor: Output tensor of shape (batch_size, channels, height, width).\n",
    "        \"\"\"\n",
    "        B, C, H, W = x.shape\n",
    "\n",
    "        x = x.permute(0, 2, 3, 1)\n",
    "        x = x.reshape(B, H * W, C)\n",
    "        x = self.norm1(x)\n",
    "\n",
    "        if self.shift_size > 0:\n",
    "            x = x.view(B, H, W, C)\n",
    "            x = torch.roll(x, shifts=(-self.shift_size, -self.shift_size), dims=(1, 2))\n",
    "\n",
    "        x = x.view(B, H // self.window_size, self.window_size, W // self.window_size, self.window_size, C)\n",
    "        x = x.permute(0, 1, 3, 2, 4, 5).contiguous().view(-1, self.window_size * self.window_size, C)\n",
    "\n",
    "        x = self.attn(x)\n",
    "\n",
    "        x = x.view(-1, self.window_size, self.window_size, C)\n",
    "        x = x.permute(0, 3, 1, 2).contiguous()\n",
    "        x = x.view(B, C, H, W)\n",
    "\n",
    "        if self.shift_size > 0:\n",
    "            x = torch.roll(x, shifts=(self.shift_size, self.shift_size), dims=(2, 3))\n",
    "\n",
    "        x = x.permute(0, 2, 3, 1).reshape(B, H * W, C)\n",
    "        x = x + self.mlp(self.norm2(x))\n",
    "        x = x.view(B, H, W, C).permute(0, 3, 1, 2)\n",
    "\n",
    "        return x\n",
    "\n",
    "\n",
    "class WindowAttention(nn.Module):\n",
    "    def __init__(self, dim, window_size, num_heads):\n",
    "        \"\"\"\n",
    "        Window Attention module class.\n",
    "\n",
    "        Args:\n",
    "        - dim (int): Dimension of the input tensor.\n",
    "        - window_size (int): Size of the window for the attention operation.\n",
    "        - num_heads (int): Number of attention heads.\n",
    "        \"\"\"\n",
    "        super().__init__()\n",
    "        self.scale = dim ** -0.5\n",
    "        self.dim = dim\n",
    "        self.window_size = window_size\n",
    "        self.num_heads = num_heads\n",
    "        self.qkv = nn.Linear(dim, dim * 3)\n",
    "        self.proj = nn.Linear(dim, dim)\n",
    "\n",
    "        num_relative_positions = 2 * window_size - 1\n",
    "\n",
    "        self.relative_position_bias_table = nn.Parameter(\n",
    "            torch.zeros(num_relative_positions * num_relative_positions, num_heads)\n",
    "        )\n",
    "\n",
    "        coords_h = torch.arange(window_size)\n",
    "        coords_w = torch.arange(window_size)\n",
    "        coords = torch.stack(torch.meshgrid(coords_h, coords_w, indexing='ij'))\n",
    "        coords_flatten = torch.flatten(coords, 1)\n",
    "        relative_coords = coords_flatten[:, :, None] - coords_flatten[:, None, :]\n",
    "        relative_coords = relative_coords.permute(1, 2, 0).contiguous()\n",
    "        relative_coords[:, :, 0] += window_size - 1\n",
    "        relative_coords[:, :, 1] += window_size - 1\n",
    "        relative_coords[:, :, 0] *= 2 * window_size - 1\n",
    "        relative_position_index = relative_coords.sum(-1)\n",
    "        self.register_buffer(\"relative_position_index\", relative_position_index)\n",
    "\n",
    "    def forward(self, x):\n",
    "        \"\"\"\n",
    "        Forward pass of the Window Attention module.\n",
    "\n",
    "        Args:\n",
    "        - x (torch.Tensor): Input tensor of shape (batch_size, sequence_length, dim).\n",
    "\n",
    "        Returns:\n",
    "        - torch.Tensor: Output tensor of shape (batch_size, sequence_length, dim).\n",
    "        \"\"\"\n",
    "        B, N, C = x.shape\n",
    "        qkv = self.qkv(x).reshape(B, N, 3, self.num_heads, C // self.num_heads).permute(2, 0, 3, 1, 4)\n",
    "        q, k, v = qkv[0], qkv[1], qkv[2]\n",
    "\n",
    "        attn = (q @ k.transpose(-2, -1)) * self.scale\n",
    "        relative_position_bias = self.relative_position_bias_table[self.relative_position_index.view(-1)].view(\n",
    "            self.window_size * self.window_size, self.window_size * self.window_size, -1)\n",
    "        relative_position_bias = relative_position_bias.permute(2, 0, 1).contiguous()\n",
    "        attn = attn + relative_position_bias\n",
    "\n",
    "        attn = attn.softmax(dim=-1)\n",
    "\n",
    "        x = (attn @ v).transpose(1, 2).reshape(B, N, C)\n",
    "        x = self.proj(x)\n",
    "        return x\n"
   ]
  },
  {
   "cell_type": "code",
   "execution_count": 23,
   "id": "72d1b32d-7ae0-4d69-9595-89e52fb5a662",
   "metadata": {
    "tags": []
   },
   "outputs": [
    {
     "name": "stdout",
     "output_type": "stream",
     "text": [
      "Observation shape after steps: (4, 64, 64)\n"
     ]
    },
    {
     "data": {
      "image/png": "[encoded data removed]",
      "text/plain": [
       "<Figure size 2000x500 with 4 Axes>"
      ]
     },
     "metadata": {},
     "output_type": "display_data"
    }
   ],
   "source": [
    "def process_frames():\n",
    "    \"\"\"\n",
    "    This function demonstrates how to process frames in a gym environment.\n",
    "\n",
    "    It sets up the environment, takes a few steps to populate the buffer with meaningful frames,\n",
    "    and then plots each channel of the observation.\n",
    "\n",
    "    Returns:\n",
    "        None\n",
    "    \"\"\"\n",
    "\n",
    "    # Assuming the environment setup includes the necessary wrappers for processing the frame and adding buffer\n",
    "    env = gym_super_mario_bros.make('SuperMarioBros-v0')\n",
    "    env = make_env(env)  # Ensure this applies all necessary wrappers\n",
    "\n",
    "    # Reset the environment to get the initial observation\n",
    "    observation = env.reset()\n",
    "\n",
    "    # Take a few steps to populate the buffer with meaningful frames\n",
    "    for _ in range(3):\n",
    "        action = env.action_space.sample()  # Randomly sample an action\n",
    "        observation, _, _, _ = env.step(action)\n",
    "\n",
    "    # Now, observation should have 4 meaningful frames\n",
    "    print(\"Observation shape after steps:\", observation.shape)  # Expected shape (4, 84, 84)\n",
    "\n",
    "    # Plot each channel\n",
    "    fig, axes = plt.subplots(1, 4, figsize=(20, 5))\n",
    "    for i in range(observation.shape[0]):\n",
    "        axes[i].imshow(observation[i], cmap='gray')\n",
    "        axes[i].set_title(f\"Frame {i+1}\")\n",
    "        axes[i].axis('off')  # Hide axes\n",
    "\n",
    "    plt.show()\n",
    "\n",
    "process_frames()\n"
   ]
  },
  {
   "cell_type": "code",
   "execution_count": 24,
   "id": "786d3594-06a7-4d5f-aa81-5a3f17388b46",
   "metadata": {
    "tags": []
   },
   "outputs": [],
   "source": [
    "class DDQN_agent:\n",
    "    \"\"\"\n",
    "    Double Deep Q-Network (DDQN) agent for reinforcement learning.\n",
    "\n",
    "    Args:\n",
    "    - state_space: The shape of the state space.\n",
    "    - act_space: The number of possible actions.\n",
    "    - max_mem_size: The maximum size of the memory buffer.\n",
    "    - batch_size: The size of the memory sample used for training.\n",
    "    - gamma: The discount factor for future rewards.\n",
    "    - learning_rate: The learning rate for the optimizer.\n",
    "    - dropout: The dropout rate for the DQN layers.\n",
    "    - exp_max: The maximum exploration rate.\n",
    "    - exp_min: The minimum exploration rate.\n",
    "    - exp_decay: The decay rate for the exploration rate.\n",
    "    - double_dq: A boolean indicating whether to use double DQN.\n",
    "    - pretrained: A boolean indicating whether to load pretrained weights.\n",
    "\n",
    "    Comments:\n",
    "    - Define DQN Layers: Initializes the DQN network with the given state space and action space.\n",
    "    - self.predicted_Qnet: The predicted Q-network used for action selection.\n",
    "    - self.target_Qnet: The target Q-network used for calculating target Q-values.\n",
    "    - self.optimizer: The optimizer used for updating the predicted Q-network.\n",
    "    - self.copy: The number of steps before copying the local model weights into the target network.\n",
    "    - self.step: The current step count.\n",
    "    - Create memory: Initializes the memory buffers for storing state, action, reward, next state, and done flags.\n",
    "    - self.memory_sample_size: The size of the memory sample used for training.\n",
    "    - Learning parameters: Initializes the discount factor, loss function, and exploration rate.\n",
    "    \"\"\"\n",
    "\n",
    "    def __init__(self, state_space, act_space, max_mem_size, batch_size, gamma, learning_rate,\n",
    "                 dropout, exp_max, exp_min, exp_decay, double_dq, pretrained):\n",
    "        self.state_space = state_space\n",
    "        self.act_space = act_space\n",
    "        self.double_dq = double_dq\n",
    "        self.pretrained = pretrained\n",
    "        self.device = 'cuda' if torch.cuda.is_available() else 'cpu'\n",
    "\n",
    "        self.predicted_Qnet = DQNSolver(state_space, act_space).to(self.device)\n",
    "        self.target_Qnet = DQNSolver(state_space, act_space).to(self.device)\n",
    "        \n",
    "        if self.pretrained:\n",
    "            self.predicted_Qnet.load_state_dict(torch.load(\"dq1.pt\", map_location=torch.device(self.device)))\n",
    "            self.target_Qnet.load_state_dict(torch.load(\"dq2.pt\", map_location=torch.device(self.device)))\n",
    "                \n",
    "        self.optimizer = torch.optim.Adam(self.predicted_Qnet.parameters(), lr=learning_rate)\n",
    "        self.copy = 5000  # Copy the local model weights into the target network every 5000 steps\n",
    "        self.step = 0\n",
    "        \n",
    "\n",
    "        # Create memory\n",
    "        self.max_mem_size = max_mem_size\n",
    "        if self.pretrained:\n",
    "            self.state_memory = torch.load(\"STATE_MEM.pt\")\n",
    "            self.action_memory = torch.load(\"ACTION_MEM.pt\")\n",
    "            self.reward_memory = torch.load(\"REWARD_MEM.pt\")\n",
    "            self.second_state_memory = torch.load(\"STATE2_MEM.pt\")\n",
    "            self.final_memory = torch.load(\"DONE_MEM.pt\")\n",
    "            with open(\"ending_position.pkl\", 'rb') as f:\n",
    "                self.ending_position = pickle.load(f)\n",
    "            with open(\"num_in_queue.pkl\", 'rb') as f:\n",
    "                self.num_in_queue = pickle.load(f)\n",
    "        else:\n",
    "            self.state_memory = torch.zeros(max_mem_size, *self.state_space)\n",
    "            self.action_memory = torch.zeros(max_mem_size, 1)\n",
    "            self.reward_memory = torch.zeros(max_mem_size, 1)\n",
    "            self.second_state_memory = torch.zeros(max_mem_size, *self.state_space)\n",
    "            self.final_memory = torch.zeros(max_mem_size, 1)\n",
    "            self.ending_position = 0\n",
    "            self.num_in_queue = 0\n",
    "        \n",
    "        self.memory_sample_size = batch_size\n",
    "        \n",
    "        # Learning parameters\n",
    "        self.gamma = gamma\n",
    "        self.l1 = nn.SmoothL1Loss().to(self.device) # Also known as Huber loss\n",
    "        self.exp_max = exp_max\n",
    "        self.exploration_rate = exp_max\n",
    "        self.exp_min = exp_min\n",
    "        self.exp_decay = exp_decay\n",
    "\n",
    "    def remember(self, state, action, reward, state2, done):\n",
    "        \"\"\"\n",
    "        Stores an experience in the memory buffer.\n",
    "\n",
    "        Args:\n",
    "        - state: The current state.\n",
    "        - action: The action taken.\n",
    "        - reward: The reward received.\n",
    "        - state2: The next state.\n",
    "        - done: A flag indicating whether the episode is done.\n",
    "        \"\"\"\n",
    "        self.state_memory[self.ending_position] = state.float()\n",
    "        self.action_memory[self.ending_position] = action.float()\n",
    "        self.reward_memory[self.ending_position] = reward.float()\n",
    "        self.second_state_memory[self.ending_position] = state2.float()\n",
    "        self.final_memory[self.ending_position] = done.float()\n",
    "        self.ending_position = (self.ending_position + 1) % self.max_mem_size  # FIFO tensor\n",
    "        self.num_in_queue = min(self.num_in_queue + 1, self.max_mem_size)\n",
    "        \n",
    "    def recall(self):\n",
    "        \"\"\"\n",
    "        Retrieves a random sample of experiences from the memory buffer.\n",
    "\n",
    "        Returns:\n",
    "        - STATE: The sampled states.\n",
    "        - ACTION: The sampled actions.\n",
    "        - REWARD: The sampled rewards.\n",
    "        - STATE2: The sampled next states.\n",
    "        - DONE: The sampled done flags.\n",
    "        \"\"\"\n",
    "        # Randomly sample 'batch size' experiences\n",
    "        idx = random.choices(range(self.num_in_queue), k=self.memory_sample_size)\n",
    "        \n",
    "        STATE = self.state_memory[idx]\n",
    "        ACTION = self.action_memory[idx]\n",
    "        REWARD = self.reward_memory[idx]\n",
    "        STATE2 = self.second_state_memory[idx]\n",
    "        DONE = self.final_memory[idx]\n",
    "        \n",
    "        return STATE, ACTION, REWARD, STATE2, DONE\n",
    "\n",
    "    def act(self, state):\n",
    "        \"\"\"\n",
    "        Selects an action based on the current state.\n",
    "\n",
    "        Args:\n",
    "        - state: The current state.\n",
    "\n",
    "        Returns:\n",
    "        - The selected action.\n",
    "        \"\"\"\n",
    "        # Epsilon-greedy action\n",
    "        \n",
    "        if self.double_dq:\n",
    "            self.step += 1\n",
    "        if random.random() < self.exploration_rate:  \n",
    "            return torch.tensor([[random.randrange(self.act_space)]])\n",
    "        if self.double_dq:\n",
    "            # Local net is used for the policy\n",
    "            return torch.argmax(self.predicted_Qnet(state.to(self.device))).unsqueeze(0).unsqueeze(0).cpu()\n",
    "        else:\n",
    "            return torch.argmax(self.dqn(state.to(self.device))).unsqueeze(0).unsqueeze(0).cpu()\n",
    "\n",
    "    def copy_model(self):\n",
    "        \"\"\"\n",
    "        Copies the weights of the local model into the target model.\n",
    "        \"\"\"\n",
    "        self.target_Qnet.load_state_dict(self.predicted_Qnet.state_dict())\n",
    "    \n",
    "    def experience_replay(self):\n",
    "        \"\"\"\n",
    "        Performs the experience replay step of the DDQN algorithm.\n",
    "        \"\"\"\n",
    "        if self.double_dq and self.step % self.copy == 0:\n",
    "            self.copy_model()\n",
    "\n",
    "        if self.memory_sample_size > self.num_in_queue:\n",
    "            return\n",
    "\n",
    "        STATE, ACTION, REWARD, STATE2, DONE = self.recall()\n",
    "        STATE = STATE.to(self.device)\n",
    "        ACTION = ACTION.to(self.device)\n",
    "        REWARD = REWARD.to(self.device)\n",
    "        STATE2 = STATE2.to(self.device)\n",
    "        DONE = DONE.to(self.device)\n",
    "        \n",
    "        self.optimizer.zero_grad()\n",
    "        if self.double_dq:\n",
    "            # Double Q-Learning target is Q*(S, A) <- r + γ max_a Q_target(S', a)\n",
    "            target = REWARD + torch.mul((self.gamma * \n",
    "                                        self.target_Qnet(STATE2).max(1).values.unsqueeze(1)), \n",
    "                                        1 - DONE)\n",
    "\n",
    "            current = self.predicted_Qnet(STATE).gather(1, ACTION.long()) # Local net approximation of Q-value\n",
    "        else:\n",
    "            # Q-Learning target is Q*(S, A) <- r + γ max_a Q(S', a) \n",
    "            target = REWARD + torch.mul((self.gamma * \n",
    "                                        self.dqn(STATE2).max(1).values.unsqueeze(1)), \n",
    "                                        1 - DONE)\n",
    "                \n",
    "            current = self.dqn(STATE).gather(1, ACTION.long())\n",
    "        \n",
    "        loss = self.l1(current, target)\n",
    "        loss.backward() # Compute gradients\n",
    "        self.optimizer.step() # Backpropagate error\n",
    "\n",
    "        self.exploration_rate *= self.exp_decay\n",
    "        \n",
    "        # Makes sure that exploration rate is always at least 'exploration min'\n",
    "        self.exploration_rate = max(self.exploration_rate, self.exp_min)"
   ]
  },
  {
   "cell_type": "code",
   "execution_count": 25,
   "id": "f0e76f71-1b63-42c9-b56e-46ea6def17b7",
   "metadata": {
    "tags": []
   },
   "outputs": [],
   "source": [
    "def vectorize_action(action, act_space):\n",
    "    # Given a scalar action, return a one-hot encoded action\n",
    "    \n",
    "    return [0 for _ in range(action)] + [1] + [0 for _ in range(action + 1, act_space)]\n",
    "def render(env, ep=0, info=\"\"):\n",
    "    plt.figure(3)\n",
    "    plt.clf()\n",
    "    plt.imshow(env.render(mode='rgb_array'))\n",
    "    plt.title(\"Episode: %d %s\" % (ep, info))\n",
    "    plt.axis('off')\n",
    "\n",
    "    clear_output(wait=True)\n",
    "    display(plt.gcf())\n"
   ]
  },
  {
   "cell_type": "code",
   "execution_count": 26,
   "id": "78a17a12-6b18-467b-8aaf-e0b17f72f5bc",
   "metadata": {
    "tags": []
   },
   "outputs": [],
   "source": [
    "def run(training_mode, pretrained):\n",
    "    \"\"\"\n",
    "    Run the reinforcement learning algorithm.\n",
    "\n",
    "    Args:\n",
    "        training_mode (bool): Flag indicating whether to run in training mode or not.\n",
    "        pretrained (bool): Flag indicating whether to use pretrained model or not.\n",
    "    \"\"\"\n",
    "    # Create the environment\n",
    "    env = gym_super_mario_bros.make('SuperMarioBros-v0')\n",
    "    env = make_env(env)\n",
    "\n",
    "    # Get the observation space and action space\n",
    "    observation_space = env.observation_space.shape\n",
    "    act_space = env.action_space.n\n",
    "\n",
    "    # Print the action space and observation space\n",
    "    print(act_space)\n",
    "    print(observation_space)\n",
    "\n",
    "    # Create the DDQN agent\n",
    "    agent = DDQN_agent(state_space=observation_space,\n",
    "                       act_space=act_space,\n",
    "                       max_mem_size=30000,\n",
    "                       batch_size=16,\n",
    "                       gamma=0.90,\n",
    "                       learning_rate=0.00025,\n",
    "                       dropout=0.1,\n",
    "                       exp_max=1.0,\n",
    "                       exp_min=0.02,\n",
    "                       exp_decay=0.99,\n",
    "                       double_dq=True,\n",
    "                       pretrained=pretrained)\n",
    "\n",
    "    num_episodes = 1000\n",
    "    env.reset()\n",
    "    total_rewards = []\n",
    "    last_x_pos = 0\n",
    "    stagnation_penalty_count = 0  # Track lack of progress\n",
    "    count = 0\n",
    "\n",
    "    # Run the episodes\n",
    "    for ep_num in tqdm(range(num_episodes)):\n",
    "        state = env.reset()\n",
    "        state = torch.Tensor([state])\n",
    "        total_reward = 0\n",
    "        steps = 0\n",
    "\n",
    "        while True:\n",
    "            if not training_mode:\n",
    "                render(env, ep_num)\n",
    "\n",
    "            # Choose an action\n",
    "            action = agent.act(state)\n",
    "            steps += 1\n",
    "\n",
    "            # Take the action and observe the next state, reward, and terminal flag\n",
    "            state_next, reward, terminal, info = env.step(int(action[0]))\n",
    "\n",
    "            # Update the total reward\n",
    "            total_reward += reward\n",
    "\n",
    "            # Convert the next state to a tensor\n",
    "            state_next = torch.Tensor([state_next])\n",
    "\n",
    "            # Convert the reward and terminal flag to tensors\n",
    "            reward = torch.tensor([reward]).unsqueeze(0)\n",
    "            terminal = torch.tensor([int(terminal)]).unsqueeze(0)\n",
    "\n",
    "            if training_mode:\n",
    "                # Remember the current state, action, reward, next state, and terminal flag\n",
    "                agent.remember(state, action, reward, state_next, terminal)\n",
    "\n",
    "                # Perform experience replay\n",
    "                agent.experience_replay()\n",
    "\n",
    "            state = state_next\n",
    "\n",
    "            if terminal:\n",
    "                break\n",
    "\n",
    "        total_rewards.append(total_reward)\n",
    "        print(\"Total reward after episode {} is {}\".format(ep_num + 1, total_rewards[-1]))\n",
    "        count += 1\n",
    "\n",
    "        if count > 50:\n",
    "            # Plot the average rewards per 5 episodes\n",
    "            plt.title(\"Episodes trained vs. Average Rewards (per 5 eps)\")\n",
    "            plt.plot([0 for _ in range(50)] + np.convolve(total_rewards, np.ones((50,))/50, mode=\"valid\").tolist())\n",
    "            plt.show()\n",
    "            count = 1\n",
    "\n",
    "            if training_mode:\n",
    "                # Save state and model\n",
    "                with open(\"ending_position.pkl\", \"wb\") as f:\n",
    "                    pickle.dump(agent.ending_position, f)\n",
    "                with open(\"num_in_queue.pkl\", \"wb\") as f:\n",
    "                    pickle.dump(agent.num_in_queue, f)\n",
    "                with open(\"total_rewards1.pkl\", \"wb\") as f:\n",
    "                    pickle.dump(total_rewards, f)\n",
    "                torch.save(agent.predicted_Qnet.state_dict(), \"dq1.pt\")\n",
    "                torch.save(agent.target_Qnet.state_dict(), \"dq2.pt\")\n",
    "                torch.save(agent.action_memory, \"ACTION_MEM.pt\")\n",
    "                torch.save(agent.state_memory, \"STATE_MEM.pt\")\n",
    "                torch.save(agent.reward_memory, \"REWARD_MEM.pt\")\n",
    "                torch.save(agent.second_state_memory, \"STATE2_MEM.pt\")\n",
    "                torch.save(agent.final_memory, \"DONE_MEM.pt\")\n",
    "\n",
    "    env.close()\n",
    "\n",
    "    if num_episodes > 500:\n",
    "        # Plot the average rewards per 500 episodes\n",
    "        plt.title(\"Episodes trained vs. Average Rewards (per 500 eps)\")\n",
    "        plt.plot([0 for _ in range(500)] + np.convolve(total_rewards, np.ones((500,))/500, mode=\"valid\").tolist())\n",
    "        plt.show()\n",
    "\n"
   ]
  },
  {
   "cell_type": "markdown",
   "id": "88a3fcbc-4945-4366-990c-db534f557f61",
   "metadata": {},
   "source": [
    "To use the model that we trained until now and play the game, run the below command (Watch how the game progresses for couple of episodes to see it's performance)"
   ]
  },
  {
   "cell_type": "code",
   "execution_count": 27,
   "id": "7e1a200b-1a57-4e51-91f5-36acbfb5657f",
   "metadata": {
    "tags": []
   },
   "outputs": [
    {
     "data": {
      "image/png": "[encoded data removed]",
      "text/plain": [
       "<Figure size 640x480 with 1 Axes>"
      ]
     },
     "metadata": {},
     "output_type": "display_data"
    },
    {
     "name": "stderr",
     "output_type": "stream",
     "text": [
      "  0%|                                                                             | 1/1000 [01:41<28:04:40, 101.18s/it]\n"
     ]
    },
    {
     "ename": "KeyboardInterrupt",
     "evalue": "",
     "output_type": "error",
     "traceback": [
      "\u001b[1;31m---------------------------------------------------------------------------\u001b[0m",
      "\u001b[1;31mKeyboardInterrupt\u001b[0m                         Traceback (most recent call last)",
      "Cell \u001b[1;32mIn[27], line 1\u001b[0m\n\u001b[1;32m----> 1\u001b[0m \u001b[43mrun\u001b[49m\u001b[43m(\u001b[49m\u001b[43mtraining_mode\u001b[49m\u001b[38;5;241;43m=\u001b[39;49m\u001b[38;5;28;43;01mFalse\u001b[39;49;00m\u001b[43m,\u001b[49m\u001b[43m \u001b[49m\u001b[43mpretrained\u001b[49m\u001b[38;5;241;43m=\u001b[39;49m\u001b[38;5;28;43;01mTrue\u001b[39;49;00m\u001b[43m)\u001b[49m\n",
      "Cell \u001b[1;32mIn[26], line 58\u001b[0m, in \u001b[0;36mrun\u001b[1;34m(training_mode, pretrained)\u001b[0m\n\u001b[0;32m     55\u001b[0m steps \u001b[38;5;241m+\u001b[39m\u001b[38;5;241m=\u001b[39m \u001b[38;5;241m1\u001b[39m\n\u001b[0;32m     57\u001b[0m \u001b[38;5;66;03m# Take the action and observe the next state, reward, and terminal flag\u001b[39;00m\n\u001b[1;32m---> 58\u001b[0m state_next, reward, terminal, info \u001b[38;5;241m=\u001b[39m \u001b[43menv\u001b[49m\u001b[38;5;241;43m.\u001b[39;49m\u001b[43mstep\u001b[49m\u001b[43m(\u001b[49m\u001b[38;5;28;43mint\u001b[39;49m\u001b[43m(\u001b[49m\u001b[43maction\u001b[49m\u001b[43m[\u001b[49m\u001b[38;5;241;43m0\u001b[39;49m\u001b[43m]\u001b[49m\u001b[43m)\u001b[49m\u001b[43m)\u001b[49m\n\u001b[0;32m     60\u001b[0m \u001b[38;5;66;03m# Update the total reward\u001b[39;00m\n\u001b[0;32m     61\u001b[0m total_reward \u001b[38;5;241m+\u001b[39m\u001b[38;5;241m=\u001b[39m reward\n",
      "File \u001b[1;32m~\\anaconda3\\envs\\mario\\lib\\site-packages\\nes_py\\wrappers\\joypad_space.py:74\u001b[0m, in \u001b[0;36mJoypadSpace.step\u001b[1;34m(self, action)\u001b[0m\n\u001b[0;32m     59\u001b[0m \u001b[38;5;250m\u001b[39m\u001b[38;5;124;03m\"\"\"\u001b[39;00m\n\u001b[0;32m     60\u001b[0m \u001b[38;5;124;03mTake a step using the given action.\u001b[39;00m\n\u001b[0;32m     61\u001b[0m \n\u001b[1;32m   (...)\u001b[0m\n\u001b[0;32m     71\u001b[0m \n\u001b[0;32m     72\u001b[0m \u001b[38;5;124;03m\"\"\"\u001b[39;00m\n\u001b[0;32m     73\u001b[0m \u001b[38;5;66;03m# take the step and record the output\u001b[39;00m\n\u001b[1;32m---> 74\u001b[0m \u001b[38;5;28;01mreturn\u001b[39;00m \u001b[38;5;28;43mself\u001b[39;49m\u001b[38;5;241;43m.\u001b[39;49m\u001b[43menv\u001b[49m\u001b[38;5;241;43m.\u001b[39;49m\u001b[43mstep\u001b[49m\u001b[43m(\u001b[49m\u001b[38;5;28;43mself\u001b[39;49m\u001b[38;5;241;43m.\u001b[39;49m\u001b[43m_action_map\u001b[49m\u001b[43m[\u001b[49m\u001b[43maction\u001b[49m\u001b[43m]\u001b[49m\u001b[43m)\u001b[49m\n",
      "File \u001b[1;32m~\\anaconda3\\envs\\mario\\lib\\site-packages\\gym\\core.py:262\u001b[0m, in \u001b[0;36mObservationWrapper.step\u001b[1;34m(self, action)\u001b[0m\n\u001b[0;32m    260\u001b[0m \u001b[38;5;28;01mdef\u001b[39;00m \u001b[38;5;21mstep\u001b[39m(\u001b[38;5;28mself\u001b[39m, action):\n\u001b[0;32m    261\u001b[0m     observation, reward, done, info \u001b[38;5;241m=\u001b[39m \u001b[38;5;28mself\u001b[39m\u001b[38;5;241m.\u001b[39menv\u001b[38;5;241m.\u001b[39mstep(action)\n\u001b[1;32m--> 262\u001b[0m     \u001b[38;5;28;01mreturn\u001b[39;00m \u001b[38;5;28;43mself\u001b[39;49m\u001b[38;5;241;43m.\u001b[39;49m\u001b[43mobservation\u001b[49m\u001b[43m(\u001b[49m\u001b[43mobservation\u001b[49m\u001b[43m)\u001b[49m, reward, done, info\n",
      "Cell \u001b[1;32mIn[20], line 50\u001b[0m, in \u001b[0;36mscale_frame.observation\u001b[1;34m(self, obs)\u001b[0m\n\u001b[0;32m     49\u001b[0m \u001b[38;5;28;01mdef\u001b[39;00m \u001b[38;5;21mobservation\u001b[39m(\u001b[38;5;28mself\u001b[39m, obs):\n\u001b[1;32m---> 50\u001b[0m     \u001b[38;5;28;01mreturn\u001b[39;00m \u001b[43mnp\u001b[49m\u001b[38;5;241;43m.\u001b[39;49m\u001b[43marray\u001b[49m\u001b[43m(\u001b[49m\u001b[43mobs\u001b[49m\u001b[43m)\u001b[49m\u001b[38;5;241m.\u001b[39mastype(np\u001b[38;5;241m.\u001b[39mfloat32) \u001b[38;5;241m/\u001b[39m \u001b[38;5;241m255.0\u001b[39m\n",
      "\u001b[1;31mKeyboardInterrupt\u001b[0m: "
     ]
    },
    {
     "data": {
      "image/png": "[encoded data removed]",
      "text/plain": [
       "<Figure size 640x480 with 1 Axes>"
      ]
     },
     "metadata": {},
     "output_type": "display_data"
    }
   ],
   "source": [
    "run(training_mode=False, pretrained=True)"
   ]
  },
  {
   "cell_type": "markdown",
   "id": "99298669-9b6d-4419-8c75-2f66b1b753e7",
   "metadata": {},
   "source": [
    "To build on top of our model and train it further (train the model not from scratch), run the below command. The weights are saved every 50 episodes."
   ]
  },
  {
   "cell_type": "code",
   "execution_count": null,
   "id": "1ec9ac69-4e80-477a-b029-14a8c28fd911",
   "metadata": {},
   "outputs": [
    {
     "name": "stdout",
     "output_type": "stream",
     "text": [
      "5\n",
      "(4, 64, 64)\n"
     ]
    },
    {
     "name": "stderr",
     "output_type": "stream",
     "text": [
      "  0%|                                                                               | 1/1000 [00:29<8:11:46, 29.54s/it]"
     ]
    },
    {
     "name": "stdout",
     "output_type": "stream",
     "text": [
      "Total reward after episode 1 is 2306.0\n"
     ]
    },
    {
     "name": "stderr",
     "output_type": "stream",
     "text": [
      "  0%|▏                                                                              | 2/1000 [00:42<5:34:01, 20.08s/it]"
     ]
    },
    {
     "name": "stdout",
     "output_type": "stream",
     "text": [
      "Total reward after episode 2 is 2024.0\n"
     ]
    },
    {
     "name": "stderr",
     "output_type": "stream",
     "text": [
      "  0%|▏                                                                              | 3/1000 [00:57<4:48:23, 17.36s/it]"
     ]
    },
    {
     "name": "stdout",
     "output_type": "stream",
     "text": [
      "Total reward after episode 3 is 1099.0\n"
     ]
    },
    {
     "name": "stderr",
     "output_type": "stream",
     "text": [
      "  0%|▎                                                                              | 4/1000 [01:04<3:40:20, 13.27s/it]"
     ]
    },
    {
     "name": "stdout",
     "output_type": "stream",
     "text": [
      "Total reward after episode 4 is 1131.0\n"
     ]
    },
    {
     "name": "stderr",
     "output_type": "stream",
     "text": [
      "  0%|▍                                                                              | 5/1000 [01:25<4:26:01, 16.04s/it]"
     ]
    },
    {
     "name": "stdout",
     "output_type": "stream",
     "text": [
      "Total reward after episode 5 is 1903.0\n"
     ]
    },
    {
     "name": "stderr",
     "output_type": "stream",
     "text": [
      "  1%|▍                                                                              | 6/1000 [01:40<4:20:20, 15.71s/it]"
     ]
    },
    {
     "name": "stdout",
     "output_type": "stream",
     "text": [
      "Total reward after episode 6 is 2445.0\n"
     ]
    },
    {
     "name": "stderr",
     "output_type": "stream",
     "text": [
      "  1%|▌                                                                              | 7/1000 [01:55<4:20:23, 15.73s/it]"
     ]
    },
    {
     "name": "stdout",
     "output_type": "stream",
     "text": [
      "Total reward after episode 7 is 2357.0\n"
     ]
    },
    {
     "name": "stderr",
     "output_type": "stream",
     "text": [
      "  1%|▋                                                                              | 8/1000 [02:02<3:32:42, 12.87s/it]"
     ]
    },
    {
     "name": "stdout",
     "output_type": "stream",
     "text": [
      "Total reward after episode 8 is 1085.0\n"
     ]
    },
    {
     "name": "stderr",
     "output_type": "stream",
     "text": [
      "  1%|▋                                                                              | 9/1000 [02:38<5:31:23, 20.06s/it]"
     ]
    },
    {
     "name": "stdout",
     "output_type": "stream",
     "text": [
      "Total reward after episode 9 is 2261.0\n"
     ]
    },
    {
     "name": "stderr",
     "output_type": "stream",
     "text": [
      "  1%|▊                                                                             | 10/1000 [03:07<6:14:01, 22.67s/it]"
     ]
    },
    {
     "name": "stdout",
     "output_type": "stream",
     "text": [
      "Total reward after episode 10 is 2269.0\n"
     ]
    },
    {
     "name": "stderr",
     "output_type": "stream",
     "text": [
      "  1%|▊                                                                             | 11/1000 [03:31<6:22:33, 23.21s/it]"
     ]
    },
    {
     "name": "stdout",
     "output_type": "stream",
     "text": [
      "Total reward after episode 11 is 1169.0\n"
     ]
    },
    {
     "name": "stderr",
     "output_type": "stream",
     "text": [
      "  1%|▉                                                                             | 12/1000 [03:42<5:19:37, 19.41s/it]"
     ]
    },
    {
     "name": "stdout",
     "output_type": "stream",
     "text": [
      "Total reward after episode 12 is 1818.0\n"
     ]
    },
    {
     "name": "stderr",
     "output_type": "stream",
     "text": [
      "  1%|█                                                                             | 13/1000 [04:03<5:30:57, 20.12s/it]"
     ]
    },
    {
     "name": "stdout",
     "output_type": "stream",
     "text": [
      "Total reward after episode 13 is 2258.0\n"
     ]
    },
    {
     "name": "stderr",
     "output_type": "stream",
     "text": [
      "  1%|█                                                                             | 14/1000 [04:22<5:25:18, 19.80s/it]"
     ]
    },
    {
     "name": "stdout",
     "output_type": "stream",
     "text": [
      "Total reward after episode 14 is 2272.0\n"
     ]
    },
    {
     "name": "stderr",
     "output_type": "stream",
     "text": [
      "  2%|█▏                                                                            | 15/1000 [04:31<4:30:44, 16.49s/it]"
     ]
    },
    {
     "name": "stdout",
     "output_type": "stream",
     "text": [
      "Total reward after episode 15 is 1560.0\n"
     ]
    },
    {
     "name": "stderr",
     "output_type": "stream",
     "text": [
      "  2%|█▏                                                                            | 16/1000 [04:58<5:18:52, 19.44s/it]"
     ]
    },
    {
     "name": "stdout",
     "output_type": "stream",
     "text": [
      "Total reward after episode 16 is 2195.0\n"
     ]
    },
    {
     "name": "stderr",
     "output_type": "stream",
     "text": [
      "  2%|█▎                                                                            | 17/1000 [05:18<5:22:02, 19.66s/it]"
     ]
    },
    {
     "name": "stdout",
     "output_type": "stream",
     "text": [
      "Total reward after episode 17 is 2716.0\n"
     ]
    },
    {
     "name": "stderr",
     "output_type": "stream",
     "text": [
      "  2%|█▍                                                                            | 18/1000 [05:48<6:12:34, 22.76s/it]"
     ]
    },
    {
     "name": "stdout",
     "output_type": "stream",
     "text": [
      "Total reward after episode 18 is 3215.0\n"
     ]
    },
    {
     "name": "stderr",
     "output_type": "stream",
     "text": [
      "  2%|█▍                                                                            | 19/1000 [06:10<6:10:55, 22.69s/it]"
     ]
    },
    {
     "name": "stdout",
     "output_type": "stream",
     "text": [
      "Total reward after episode 19 is 2694.0\n"
     ]
    },
    {
     "name": "stderr",
     "output_type": "stream",
     "text": [
      "  2%|█▌                                                                            | 20/1000 [06:51<7:39:46, 28.15s/it]"
     ]
    },
    {
     "name": "stdout",
     "output_type": "stream",
     "text": [
      "Total reward after episode 20 is 3030.0\n"
     ]
    },
    {
     "name": "stderr",
     "output_type": "stream",
     "text": [
      "  2%|█▋                                                                            | 21/1000 [07:10<6:53:59, 25.37s/it]"
     ]
    },
    {
     "name": "stdout",
     "output_type": "stream",
     "text": [
      "Total reward after episode 21 is 2828.0\n"
     ]
    },
    {
     "name": "stderr",
     "output_type": "stream",
     "text": [
      "  2%|█▋                                                                            | 22/1000 [07:47<7:51:51, 28.95s/it]"
     ]
    },
    {
     "name": "stdout",
     "output_type": "stream",
     "text": [
      "Total reward after episode 22 is 2599.0\n"
     ]
    },
    {
     "name": "stderr",
     "output_type": "stream",
     "text": [
      "  2%|█▊                                                                            | 23/1000 [08:05<6:57:20, 25.63s/it]"
     ]
    },
    {
     "name": "stdout",
     "output_type": "stream",
     "text": [
      "Total reward after episode 23 is 3150.0\n"
     ]
    },
    {
     "name": "stderr",
     "output_type": "stream",
     "text": [
      "  2%|█▊                                                                            | 24/1000 [08:26<6:32:41, 24.14s/it]"
     ]
    },
    {
     "name": "stdout",
     "output_type": "stream",
     "text": [
      "Total reward after episode 24 is 2084.0\n"
     ]
    },
    {
     "name": "stderr",
     "output_type": "stream",
     "text": [
      "  2%|█▉                                                                            | 25/1000 [08:35<5:21:11, 19.77s/it]"
     ]
    },
    {
     "name": "stdout",
     "output_type": "stream",
     "text": [
      "Total reward after episode 25 is 1553.0\n"
     ]
    },
    {
     "name": "stderr",
     "output_type": "stream",
     "text": [
      "  3%|██                                                                            | 26/1000 [08:49<4:49:32, 17.84s/it]"
     ]
    },
    {
     "name": "stdout",
     "output_type": "stream",
     "text": [
      "Total reward after episode 26 is 2324.0\n"
     ]
    },
    {
     "name": "stderr",
     "output_type": "stream",
     "text": [
      "  3%|██                                                                            | 27/1000 [09:12<5:15:28, 19.45s/it]"
     ]
    },
    {
     "name": "stdout",
     "output_type": "stream",
     "text": [
      "Total reward after episode 27 is 1648.0\n"
     ]
    },
    {
     "name": "stderr",
     "output_type": "stream",
     "text": [
      "  3%|██▏                                                                           | 28/1000 [09:44<6:17:07, 23.28s/it]"
     ]
    },
    {
     "name": "stdout",
     "output_type": "stream",
     "text": [
      "Total reward after episode 28 is 1936.0\n"
     ]
    },
    {
     "name": "stderr",
     "output_type": "stream",
     "text": [
      "  3%|██▎                                                                           | 29/1000 [09:49<4:45:41, 17.65s/it]"
     ]
    },
    {
     "name": "stdout",
     "output_type": "stream",
     "text": [
      "Total reward after episode 29 is 725.0\n"
     ]
    },
    {
     "name": "stderr",
     "output_type": "stream",
     "text": [
      "  3%|██▎                                                                           | 30/1000 [10:01<4:17:26, 15.92s/it]"
     ]
    },
    {
     "name": "stdout",
     "output_type": "stream",
     "text": [
      "Total reward after episode 30 is 2152.0\n"
     ]
    },
    {
     "name": "stderr",
     "output_type": "stream",
     "text": [
      "  3%|██▍                                                                           | 31/1000 [10:13<3:58:49, 14.79s/it]"
     ]
    },
    {
     "name": "stdout",
     "output_type": "stream",
     "text": [
      "Total reward after episode 31 is 1886.0\n"
     ]
    },
    {
     "name": "stderr",
     "output_type": "stream",
     "text": [
      "  3%|██▍                                                                           | 32/1000 [10:27<3:53:21, 14.46s/it]"
     ]
    },
    {
     "name": "stdout",
     "output_type": "stream",
     "text": [
      "Total reward after episode 32 is 2234.0\n"
     ]
    },
    {
     "name": "stderr",
     "output_type": "stream",
     "text": [
      "  3%|██▌                                                                           | 33/1000 [10:48<4:27:58, 16.63s/it]"
     ]
    },
    {
     "name": "stdout",
     "output_type": "stream",
     "text": [
      "Total reward after episode 33 is 3056.0\n"
     ]
    },
    {
     "name": "stderr",
     "output_type": "stream",
     "text": [
      "  3%|██▋                                                                           | 34/1000 [11:19<5:36:02, 20.87s/it]"
     ]
    },
    {
     "name": "stdout",
     "output_type": "stream",
     "text": [
      "Total reward after episode 34 is 2709.0\n"
     ]
    },
    {
     "name": "stderr",
     "output_type": "stream",
     "text": [
      "  4%|██▋                                                                           | 35/1000 [11:40<5:34:47, 20.82s/it]"
     ]
    },
    {
     "name": "stdout",
     "output_type": "stream",
     "text": [
      "Total reward after episode 35 is 2259.0\n"
     ]
    },
    {
     "name": "stderr",
     "output_type": "stream",
     "text": [
      "  4%|██▊                                                                           | 36/1000 [12:19<7:04:57, 26.45s/it]"
     ]
    },
    {
     "name": "stdout",
     "output_type": "stream",
     "text": [
      "Total reward after episode 36 is 2427.0\n"
     ]
    },
    {
     "name": "stderr",
     "output_type": "stream",
     "text": [
      "  4%|██▉                                                                           | 37/1000 [12:43<6:51:46, 25.66s/it]"
     ]
    },
    {
     "name": "stdout",
     "output_type": "stream",
     "text": [
      "Total reward after episode 37 is 1616.0\n"
     ]
    },
    {
     "name": "stderr",
     "output_type": "stream",
     "text": [
      "  4%|██▉                                                                           | 38/1000 [13:01<6:13:10, 23.28s/it]"
     ]
    },
    {
     "name": "stdout",
     "output_type": "stream",
     "text": [
      "Total reward after episode 38 is 2222.0\n"
     ]
    },
    {
     "name": "stderr",
     "output_type": "stream",
     "text": [
      "  4%|███                                                                           | 39/1000 [13:18<5:45:55, 21.60s/it]"
     ]
    },
    {
     "name": "stdout",
     "output_type": "stream",
     "text": [
      "Total reward after episode 39 is 2470.0\n"
     ]
    },
    {
     "name": "stderr",
     "output_type": "stream",
     "text": [
      "  4%|███                                                                           | 40/1000 [13:45<6:08:18, 23.02s/it]"
     ]
    },
    {
     "name": "stdout",
     "output_type": "stream",
     "text": [
      "Total reward after episode 40 is 2338.0\n"
     ]
    },
    {
     "name": "stderr",
     "output_type": "stream",
     "text": [
      "  4%|███▏                                                                          | 41/1000 [14:27<7:38:45, 28.70s/it]"
     ]
    },
    {
     "name": "stdout",
     "output_type": "stream",
     "text": [
      "Total reward after episode 41 is 3848.0\n"
     ]
    },
    {
     "name": "stderr",
     "output_type": "stream",
     "text": [
      "  4%|███▎                                                                          | 42/1000 [14:47<6:56:39, 26.10s/it]"
     ]
    },
    {
     "name": "stdout",
     "output_type": "stream",
     "text": [
      "Total reward after episode 42 is 2187.0\n"
     ]
    },
    {
     "name": "stderr",
     "output_type": "stream",
     "text": [
      "  4%|███▎                                                                          | 43/1000 [15:37<8:52:45, 33.40s/it]"
     ]
    },
    {
     "name": "stdout",
     "output_type": "stream",
     "text": [
      "Total reward after episode 43 is 2944.0\n"
     ]
    },
    {
     "name": "stderr",
     "output_type": "stream",
     "text": [
      "  4%|███▍                                                                          | 44/1000 [16:11<8:55:49, 33.63s/it]"
     ]
    },
    {
     "name": "stdout",
     "output_type": "stream",
     "text": [
      "Total reward after episode 44 is 2070.0\n"
     ]
    },
    {
     "name": "stderr",
     "output_type": "stream",
     "text": [
      "  4%|███▌                                                                          | 45/1000 [16:21<7:01:39, 26.49s/it]"
     ]
    },
    {
     "name": "stdout",
     "output_type": "stream",
     "text": [
      "Total reward after episode 45 is 1809.0\n"
     ]
    },
    {
     "name": "stderr",
     "output_type": "stream",
     "text": [
      "  5%|███▌                                                                          | 46/1000 [16:34<5:54:06, 22.27s/it]"
     ]
    },
    {
     "name": "stdout",
     "output_type": "stream",
     "text": [
      "Total reward after episode 46 is 1060.0\n"
     ]
    },
    {
     "name": "stderr",
     "output_type": "stream",
     "text": [
      "  5%|███▋                                                                          | 47/1000 [16:52<5:33:52, 21.02s/it]"
     ]
    },
    {
     "name": "stdout",
     "output_type": "stream",
     "text": [
      "Total reward after episode 47 is 2410.0\n"
     ]
    },
    {
     "name": "stderr",
     "output_type": "stream",
     "text": [
      "  5%|███▋                                                                          | 48/1000 [18:01<9:24:08, 35.55s/it]"
     ]
    },
    {
     "name": "stdout",
     "output_type": "stream",
     "text": [
      "Total reward after episode 48 is 3997.0\n"
     ]
    },
    {
     "name": "stderr",
     "output_type": "stream",
     "text": [
      "  5%|███▊                                                                          | 49/1000 [18:08<7:06:23, 26.90s/it]"
     ]
    },
    {
     "name": "stdout",
     "output_type": "stream",
     "text": [
      "Total reward after episode 49 is 1087.0\n"
     ]
    },
    {
     "name": "stderr",
     "output_type": "stream",
     "text": [
      "  5%|███▉                                                                          | 50/1000 [18:21<6:01:36, 22.84s/it]"
     ]
    },
    {
     "name": "stdout",
     "output_type": "stream",
     "text": [
      "Total reward after episode 50 is 2373.0\n",
      "Total reward after episode 51 is 2594.0\n"
     ]
    },
    {
     "data": {
      "image/png": "[encoded data removed]",
      "text/plain": [
       "<Figure size 640x480 with 1 Axes>"
      ]
     },
     "metadata": {},
     "output_type": "display_data"
    },
    {
     "name": "stderr",
     "output_type": "stream",
     "text": [
      "  5%|████                                                                          | 52/1000 [19:06<5:47:49, 22.01s/it]"
     ]
    },
    {
     "name": "stdout",
     "output_type": "stream",
     "text": [
      "Total reward after episode 52 is 1502.0\n"
     ]
    },
    {
     "name": "stderr",
     "output_type": "stream",
     "text": [
      "  5%|████▏                                                                         | 53/1000 [19:26<5:38:39, 21.46s/it]"
     ]
    },
    {
     "name": "stdout",
     "output_type": "stream",
     "text": [
      "Total reward after episode 53 is 2667.0\n"
     ]
    },
    {
     "name": "stderr",
     "output_type": "stream",
     "text": [
      "  5%|████▏                                                                         | 54/1000 [19:43<5:15:44, 20.03s/it]"
     ]
    },
    {
     "name": "stdout",
     "output_type": "stream",
     "text": [
      "Total reward after episode 54 is 2904.0\n"
     ]
    },
    {
     "name": "stderr",
     "output_type": "stream",
     "text": [
      "  6%|████▎                                                                         | 55/1000 [19:55<4:37:33, 17.62s/it]"
     ]
    },
    {
     "name": "stdout",
     "output_type": "stream",
     "text": [
      "Total reward after episode 55 is 1657.0\n"
     ]
    },
    {
     "name": "stderr",
     "output_type": "stream",
     "text": [
      "  6%|████▎                                                                         | 56/1000 [20:08<4:13:49, 16.13s/it]"
     ]
    },
    {
     "name": "stdout",
     "output_type": "stream",
     "text": [
      "Total reward after episode 56 is 2216.0\n"
     ]
    },
    {
     "name": "stderr",
     "output_type": "stream",
     "text": [
      "  6%|████▍                                                                         | 57/1000 [20:43<5:45:20, 21.97s/it]"
     ]
    },
    {
     "name": "stdout",
     "output_type": "stream",
     "text": [
      "Total reward after episode 57 is 2432.0\n"
     ]
    },
    {
     "name": "stderr",
     "output_type": "stream",
     "text": [
      "  6%|████▌                                                                         | 58/1000 [21:12<6:17:05, 24.02s/it]"
     ]
    },
    {
     "name": "stdout",
     "output_type": "stream",
     "text": [
      "Total reward after episode 58 is 2481.0\n"
     ]
    },
    {
     "name": "stderr",
     "output_type": "stream",
     "text": [
      "  6%|████▌                                                                         | 59/1000 [21:27<5:32:48, 21.22s/it]"
     ]
    },
    {
     "name": "stdout",
     "output_type": "stream",
     "text": [
      "Total reward after episode 59 is 2263.0\n"
     ]
    },
    {
     "name": "stderr",
     "output_type": "stream",
     "text": [
      "  6%|████▋                                                                         | 60/1000 [21:45<5:17:44, 20.28s/it]"
     ]
    },
    {
     "name": "stdout",
     "output_type": "stream",
     "text": [
      "Total reward after episode 60 is 1869.0\n"
     ]
    },
    {
     "name": "stderr",
     "output_type": "stream",
     "text": [
      "  6%|████▊                                                                         | 61/1000 [22:09<5:37:49, 21.59s/it]"
     ]
    },
    {
     "name": "stdout",
     "output_type": "stream",
     "text": [
      "Total reward after episode 61 is 2841.0\n"
     ]
    },
    {
     "name": "stderr",
     "output_type": "stream",
     "text": [
      "  6%|████▊                                                                         | 62/1000 [22:24<5:07:04, 19.64s/it]"
     ]
    },
    {
     "name": "stdout",
     "output_type": "stream",
     "text": [
      "Total reward after episode 62 is 2276.0\n"
     ]
    },
    {
     "name": "stderr",
     "output_type": "stream",
     "text": [
      "  6%|████▉                                                                         | 63/1000 [22:39<4:43:49, 18.17s/it]"
     ]
    },
    {
     "name": "stdout",
     "output_type": "stream",
     "text": [
      "Total reward after episode 63 is 2674.0\n"
     ]
    },
    {
     "name": "stderr",
     "output_type": "stream",
     "text": [
      "  6%|████▉                                                                         | 64/1000 [23:05<5:17:43, 20.37s/it]"
     ]
    },
    {
     "name": "stdout",
     "output_type": "stream",
     "text": [
      "Total reward after episode 64 is 3049.0\n"
     ]
    },
    {
     "name": "stderr",
     "output_type": "stream",
     "text": [
      "  6%|█████                                                                         | 65/1000 [23:23<5:08:15, 19.78s/it]"
     ]
    },
    {
     "name": "stdout",
     "output_type": "stream",
     "text": [
      "Total reward after episode 65 is 2447.0\n"
     ]
    },
    {
     "name": "stderr",
     "output_type": "stream",
     "text": [
      "  7%|█████▏                                                                        | 66/1000 [23:49<5:36:48, 21.64s/it]"
     ]
    },
    {
     "name": "stdout",
     "output_type": "stream",
     "text": [
      "Total reward after episode 66 is 1988.0\n"
     ]
    },
    {
     "name": "stderr",
     "output_type": "stream",
     "text": [
      "  7%|█████▏                                                                        | 67/1000 [24:17<6:04:34, 23.45s/it]"
     ]
    },
    {
     "name": "stdout",
     "output_type": "stream",
     "text": [
      "Total reward after episode 67 is 3224.0\n"
     ]
    },
    {
     "name": "stderr",
     "output_type": "stream",
     "text": [
      "  7%|█████▎                                                                        | 68/1000 [24:35<5:39:58, 21.89s/it]"
     ]
    },
    {
     "name": "stdout",
     "output_type": "stream",
     "text": [
      "Total reward after episode 68 is 2630.0\n"
     ]
    },
    {
     "name": "stderr",
     "output_type": "stream",
     "text": [
      "  7%|█████▍                                                                        | 69/1000 [24:56<5:34:34, 21.56s/it]"
     ]
    },
    {
     "name": "stdout",
     "output_type": "stream",
     "text": [
      "Total reward after episode 69 is 2309.0\n"
     ]
    },
    {
     "name": "stderr",
     "output_type": "stream",
     "text": [
      "  7%|█████▍                                                                        | 70/1000 [25:19<5:42:00, 22.06s/it]"
     ]
    },
    {
     "name": "stdout",
     "output_type": "stream",
     "text": [
      "Total reward after episode 70 is 3033.0\n"
     ]
    },
    {
     "name": "stderr",
     "output_type": "stream",
     "text": [
      "  7%|█████▌                                                                        | 71/1000 [25:34<5:08:25, 19.92s/it]"
     ]
    },
    {
     "name": "stdout",
     "output_type": "stream",
     "text": [
      "Total reward after episode 71 is 2343.0\n"
     ]
    },
    {
     "name": "stderr",
     "output_type": "stream",
     "text": [
      "  7%|█████▌                                                                        | 72/1000 [26:17<6:56:39, 26.94s/it]"
     ]
    },
    {
     "name": "stdout",
     "output_type": "stream",
     "text": [
      "Total reward after episode 72 is 3295.0\n"
     ]
    },
    {
     "name": "stderr",
     "output_type": "stream",
     "text": [
      "  7%|█████▋                                                                        | 73/1000 [26:32<5:59:25, 23.26s/it]"
     ]
    },
    {
     "name": "stdout",
     "output_type": "stream",
     "text": [
      "Total reward after episode 73 is 1477.0\n"
     ]
    },
    {
     "name": "stderr",
     "output_type": "stream",
     "text": [
      "  7%|█████▊                                                                        | 74/1000 [26:56<6:03:14, 23.54s/it]"
     ]
    },
    {
     "name": "stdout",
     "output_type": "stream",
     "text": [
      "Total reward after episode 74 is 2224.0\n"
     ]
    },
    {
     "name": "stderr",
     "output_type": "stream",
     "text": [
      "  8%|█████▊                                                                        | 75/1000 [27:07<5:06:16, 19.87s/it]"
     ]
    },
    {
     "name": "stdout",
     "output_type": "stream",
     "text": [
      "Total reward after episode 75 is 2365.0\n"
     ]
    },
    {
     "name": "stderr",
     "output_type": "stream",
     "text": [
      "  8%|█████▉                                                                        | 76/1000 [27:28<5:08:48, 20.05s/it]"
     ]
    },
    {
     "name": "stdout",
     "output_type": "stream",
     "text": [
      "Total reward after episode 76 is 2809.0\n"
     ]
    },
    {
     "name": "stderr",
     "output_type": "stream",
     "text": [
      "  8%|██████                                                                        | 77/1000 [27:52<5:25:05, 21.13s/it]"
     ]
    },
    {
     "name": "stdout",
     "output_type": "stream",
     "text": [
      "Total reward after episode 77 is 2900.0\n"
     ]
    },
    {
     "name": "stderr",
     "output_type": "stream",
     "text": [
      "  8%|██████                                                                        | 78/1000 [28:12<5:19:34, 20.80s/it]"
     ]
    },
    {
     "name": "stdout",
     "output_type": "stream",
     "text": [
      "Total reward after episode 78 is 1849.0\n"
     ]
    },
    {
     "name": "stderr",
     "output_type": "stream",
     "text": [
      "  8%|██████▏                                                                       | 79/1000 [28:29<5:04:47, 19.86s/it]"
     ]
    },
    {
     "name": "stdout",
     "output_type": "stream",
     "text": [
      "Total reward after episode 79 is 2250.0\n"
     ]
    },
    {
     "name": "stderr",
     "output_type": "stream",
     "text": [
      "  8%|██████▏                                                                       | 80/1000 [28:47<4:56:38, 19.35s/it]"
     ]
    },
    {
     "name": "stdout",
     "output_type": "stream",
     "text": [
      "Total reward after episode 80 is 2219.0\n"
     ]
    },
    {
     "name": "stderr",
     "output_type": "stream",
     "text": [
      "  8%|██████▎                                                                       | 81/1000 [29:11<5:17:19, 20.72s/it]"
     ]
    },
    {
     "name": "stdout",
     "output_type": "stream",
     "text": [
      "Total reward after episode 81 is 1952.0\n"
     ]
    },
    {
     "name": "stderr",
     "output_type": "stream",
     "text": [
      "  8%|██████▍                                                                       | 82/1000 [30:06<7:51:53, 30.84s/it]"
     ]
    },
    {
     "name": "stdout",
     "output_type": "stream",
     "text": [
      "Total reward after episode 82 is 3374.0\n"
     ]
    },
    {
     "name": "stderr",
     "output_type": "stream",
     "text": [
      "  8%|██████▍                                                                       | 83/1000 [30:18<6:26:20, 25.28s/it]"
     ]
    },
    {
     "name": "stdout",
     "output_type": "stream",
     "text": [
      "Total reward after episode 83 is 1852.0\n"
     ]
    },
    {
     "name": "stderr",
     "output_type": "stream",
     "text": [
      "  8%|██████▌                                                                       | 84/1000 [30:44<6:26:50, 25.34s/it]"
     ]
    },
    {
     "name": "stdout",
     "output_type": "stream",
     "text": [
      "Total reward after episode 84 is 2333.0\n"
     ]
    },
    {
     "name": "stderr",
     "output_type": "stream",
     "text": [
      "  8%|██████▋                                                                       | 85/1000 [31:02<5:57:14, 23.43s/it]"
     ]
    },
    {
     "name": "stdout",
     "output_type": "stream",
     "text": [
      "Total reward after episode 85 is 2447.0\n"
     ]
    },
    {
     "name": "stderr",
     "output_type": "stream",
     "text": [
      "  9%|██████▋                                                                       | 86/1000 [31:31<6:21:23, 25.04s/it]"
     ]
    },
    {
     "name": "stdout",
     "output_type": "stream",
     "text": [
      "Total reward after episode 86 is 2470.0\n"
     ]
    },
    {
     "name": "stderr",
     "output_type": "stream",
     "text": [
      "  9%|██████▊                                                                       | 87/1000 [31:51<5:57:21, 23.49s/it]"
     ]
    },
    {
     "name": "stdout",
     "output_type": "stream",
     "text": [
      "Total reward after episode 87 is 2812.0\n"
     ]
    },
    {
     "name": "stderr",
     "output_type": "stream",
     "text": [
      "  9%|██████▊                                                                       | 88/1000 [32:04<5:08:17, 20.28s/it]"
     ]
    },
    {
     "name": "stdout",
     "output_type": "stream",
     "text": [
      "Total reward after episode 88 is 1654.0\n"
     ]
    },
    {
     "name": "stderr",
     "output_type": "stream",
     "text": [
      "  9%|██████▉                                                                       | 89/1000 [32:49<7:02:26, 27.82s/it]"
     ]
    },
    {
     "name": "stdout",
     "output_type": "stream",
     "text": [
      "Total reward after episode 89 is 3244.0\n"
     ]
    },
    {
     "name": "stderr",
     "output_type": "stream",
     "text": [
      "  9%|███████                                                                       | 90/1000 [33:10<6:30:57, 25.78s/it]"
     ]
    },
    {
     "name": "stdout",
     "output_type": "stream",
     "text": [
      "Total reward after episode 90 is 3607.0\n"
     ]
    },
    {
     "name": "stderr",
     "output_type": "stream",
     "text": [
      "  9%|███████                                                                       | 91/1000 [33:28<5:53:44, 23.35s/it]"
     ]
    },
    {
     "name": "stdout",
     "output_type": "stream",
     "text": [
      "Total reward after episode 91 is 2824.0\n"
     ]
    },
    {
     "name": "stderr",
     "output_type": "stream",
     "text": [
      "  9%|███████▏                                                                      | 92/1000 [33:51<5:49:39, 23.11s/it]"
     ]
    },
    {
     "name": "stdout",
     "output_type": "stream",
     "text": [
      "Total reward after episode 92 is 2202.0\n"
     ]
    },
    {
     "name": "stderr",
     "output_type": "stream",
     "text": [
      "  9%|███████▎                                                                      | 93/1000 [34:03<5:00:26, 19.87s/it]"
     ]
    },
    {
     "name": "stdout",
     "output_type": "stream",
     "text": [
      "Total reward after episode 93 is 1528.0\n"
     ]
    },
    {
     "name": "stderr",
     "output_type": "stream",
     "text": [
      "  9%|███████▎                                                                      | 94/1000 [34:15<4:26:23, 17.64s/it]"
     ]
    },
    {
     "name": "stdout",
     "output_type": "stream",
     "text": [
      "Total reward after episode 94 is 2237.0\n"
     ]
    },
    {
     "name": "stderr",
     "output_type": "stream",
     "text": [
      " 10%|███████▍                                                                      | 95/1000 [34:51<5:49:41, 23.18s/it]"
     ]
    },
    {
     "name": "stdout",
     "output_type": "stream",
     "text": [
      "Total reward after episode 95 is 3111.0\n"
     ]
    },
    {
     "name": "stderr",
     "output_type": "stream",
     "text": [
      " 10%|███████▍                                                                      | 96/1000 [35:15<5:49:16, 23.18s/it]"
     ]
    },
    {
     "name": "stdout",
     "output_type": "stream",
     "text": [
      "Total reward after episode 96 is 2719.0\n"
     ]
    },
    {
     "name": "stderr",
     "output_type": "stream",
     "text": [
      " 10%|███████▌                                                                      | 97/1000 [35:24<4:46:30, 19.04s/it]"
     ]
    },
    {
     "name": "stdout",
     "output_type": "stream",
     "text": [
      "Total reward after episode 97 is 1444.0\n"
     ]
    },
    {
     "name": "stderr",
     "output_type": "stream",
     "text": [
      " 10%|███████▋                                                                      | 98/1000 [35:44<4:48:35, 19.20s/it]"
     ]
    },
    {
     "name": "stdout",
     "output_type": "stream",
     "text": [
      "Total reward after episode 98 is 2416.0\n"
     ]
    },
    {
     "name": "stderr",
     "output_type": "stream",
     "text": [
      " 10%|███████▋                                                                      | 99/1000 [35:58<4:24:35, 17.62s/it]"
     ]
    },
    {
     "name": "stdout",
     "output_type": "stream",
     "text": [
      "Total reward after episode 99 is 2528.0\n"
     ]
    },
    {
     "name": "stderr",
     "output_type": "stream",
     "text": [
      " 10%|███████▋                                                                     | 100/1000 [36:18<4:36:56, 18.46s/it]"
     ]
    },
    {
     "name": "stdout",
     "output_type": "stream",
     "text": [
      "Total reward after episode 100 is 2065.0\n",
      "Total reward after episode 101 is 2423.0\n"
     ]
    },
    {
     "data": {
      "image/png": "[encoded data removed]",
      "text/plain": [
       "<Figure size 640x480 with 1 Axes>"
      ]
     },
     "metadata": {},
     "output_type": "display_data"
    },
    {
     "name": "stderr",
     "output_type": "stream",
     "text": [
      " 10%|███████▊                                                                     | 102/1000 [37:16<5:54:07, 23.66s/it]"
     ]
    },
    {
     "name": "stdout",
     "output_type": "stream",
     "text": [
      "Total reward after episode 102 is 2822.0\n"
     ]
    },
    {
     "name": "stderr",
     "output_type": "stream",
     "text": [
      " 10%|███████▉                                                                     | 103/1000 [37:38<5:46:16, 23.16s/it]"
     ]
    },
    {
     "name": "stdout",
     "output_type": "stream",
     "text": [
      "Total reward after episode 103 is 2768.0\n"
     ]
    },
    {
     "name": "stderr",
     "output_type": "stream",
     "text": [
      " 10%|████████                                                                     | 104/1000 [38:10<6:24:48, 25.77s/it]"
     ]
    },
    {
     "name": "stdout",
     "output_type": "stream",
     "text": [
      "Total reward after episode 104 is 2029.0\n"
     ]
    },
    {
     "name": "stderr",
     "output_type": "stream",
     "text": [
      " 10%|████████                                                                     | 105/1000 [38:25<5:37:06, 22.60s/it]"
     ]
    },
    {
     "name": "stdout",
     "output_type": "stream",
     "text": [
      "Total reward after episode 105 is 2165.0\n"
     ]
    },
    {
     "name": "stderr",
     "output_type": "stream",
     "text": [
      " 11%|████████▏                                                                    | 106/1000 [38:46<5:28:12, 22.03s/it]"
     ]
    },
    {
     "name": "stdout",
     "output_type": "stream",
     "text": [
      "Total reward after episode 106 is 1498.0\n"
     ]
    },
    {
     "name": "stderr",
     "output_type": "stream",
     "text": [
      " 11%|████████▏                                                                    | 107/1000 [39:12<5:48:55, 23.44s/it]"
     ]
    },
    {
     "name": "stdout",
     "output_type": "stream",
     "text": [
      "Total reward after episode 107 is 2871.0\n"
     ]
    },
    {
     "name": "stderr",
     "output_type": "stream",
     "text": [
      " 11%|████████▎                                                                    | 108/1000 [39:31<5:25:05, 21.87s/it]"
     ]
    },
    {
     "name": "stdout",
     "output_type": "stream",
     "text": [
      "Total reward after episode 108 is 2069.0\n"
     ]
    }
   ],
   "source": [
    "run(training_mode=True, pretrained=True)"
   ]
  },
  {
   "cell_type": "markdown",
   "id": "de365b9b-d44e-4dc4-ace5-43389772cf2c",
   "metadata": {},
   "source": [
    "To train the model from scratch, run the below command"
   ]
  },
  {
   "cell_type": "code",
   "execution_count": null,
   "id": "6f98785a-e99c-4a42-bc9d-d0d14637fa3d",
   "metadata": {},
   "outputs": [],
   "source": [
    "run(training_mode=True, pretrained=False)"
   ]
  }
 ],
 "metadata": {
  "kernelspec": {
   "display_name": "Python 3 (ipykernel)",
   "language": "python",
   "name": "python3"
  },
  "language_info": {
   "codemirror_mode": {
    "name": "ipython",
    "version": 3
   },
   "file_extension": ".py",
   "mimetype": "text/x-python",
   "name": "python",
   "nbconvert_exporter": "python",
   "pygments_lexer": "ipython3",
   "version": "3.8.19"
  }
 },
 "nbformat": 4,
 "nbformat_minor": 5
}
